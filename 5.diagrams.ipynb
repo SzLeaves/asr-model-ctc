{
 "cells": [
  {
   "cell_type": "code",
   "execution_count": null,
   "metadata": {},
   "outputs": [],
   "source": [
    "import matplotlib.pyplot as plt\n",
    "import pickle\n",
    "\n",
    "plt.rcParams[\"font.sans-serif\"] = [\"Microsoft YaHei\"]\n",
    "plt.rcParams[\"axes.unicode_minus\"] = False\n",
    "\n",
    "FILES_PATH = \"output/\"\n",
    "\n",
    "dense_path = FILES_PATH + \"models/test/dense/\"\n",
    "conv_path = FILES_PATH + \"models/test/conv/\""
   ]
  },
  {
   "cell_type": "code",
   "execution_count": null,
   "metadata": {},
   "outputs": [],
   "source": [
    "bigru_x2_list = list()\n",
    "bigru_x2_names = ['bigru-x2-h.pkl', 'bigru-x4-h.pkl', 'bigru-x6-h.pkl']\n",
    "\n",
    "# 读取训练记录\n",
    "for history in bigru_x2_names:\n",
    "    with open(dense_path + history, \"rb\") as file:\n",
    "        bigru_x2_list.append(pickle.load(file))\n",
    "\n",
    "plt.figure(figsize=(20, 5), dpi=110)\n",
    "plt.subplots_adjust(hspace=0.4)\n",
    "\n",
    "for index, data in enumerate(bigru_x2_list):\n",
    "    epoch = len(data[\"loss\"])\n",
    "    x = range(1, epoch + 1)\n",
    "    plt.subplot(1, 3, index + 1)\n",
    "    plt.title(\"BiGRU + CTC x%d loss\" % ((index + 1) * 2))\n",
    "    plt.plot(x, data[\"loss\"])\n",
    "    plt.plot(x, data[\"val_loss\"])\n",
    "    plt.legend([\"loss\", \"val_loss\"])\n",
    "\n",
    "plt.show()"
   ]
  },
  {
   "cell_type": "code",
   "execution_count": null,
   "metadata": {},
   "outputs": [],
   "source": [
    "bigru_conv_list = list()\n",
    "bigru_conv_names = ['bigru-conv-x2-h.pkl', 'bigru-conv-x4-h.pkl', 'bigru-conv-x6-h.pkl']\n",
    "\n",
    "# 读取训练记录\n",
    "for history in bigru_conv_names:\n",
    "    with open(conv_path + history, \"rb\") as file:\n",
    "        bigru_conv_list.append(pickle.load(file))\n",
    "\n",
    "\n",
    "plt.figure(figsize=(20, 5), dpi=110)\n",
    "plt.subplots_adjust(hspace=0.4)\n",
    "\n",
    "for index, data in enumerate(bigru_conv_list):\n",
    "    epoch = len(data[\"loss\"])\n",
    "    x = range(1, epoch + 1)\n",
    "    plt.subplot(1, 3, index + 1)\n",
    "    plt.title(\"BiGRU + CTC conv x%d loss\" % ((index + 1) * 2 + 2))\n",
    "    plt.plot(x, data[\"loss\"])\n",
    "    plt.plot(x, data[\"val_loss\"])\n",
    "    plt.legend([\"loss\", \"val_loss\"])\n",
    "\n",
    "plt.show()"
   ]
  },
  {
   "cell_type": "code",
   "execution_count": null,
   "metadata": {},
   "outputs": [],
   "source": [
    "with open(FILES_PATH + \"models/backup/bigru_history.pkl\", \"rb\") as file:\n",
    "    data = pickle.load(file)\n",
    "\n",
    "EPOCHS = len(data['loss'])\n",
    "\n",
    "plt.figure(figsize=(6, 4), dpi=110)\n",
    "plt.subplots_adjust(hspace=0.4)\n",
    "\n",
    "x = range(1, EPOCHS + 1)\n",
    "\n",
    "plt.title(\"CTC + BiGRU x6 dropout loss\")\n",
    "plt.plot(x, data['loss'])\n",
    "plt.plot(x, data['val_loss'])\n",
    "plt.legend(['loss', 'val_loss'])\n",
    "\n",
    "plt.show()"
   ]
  }
 ],
 "metadata": {
  "kernelspec": {
   "display_name": "venv",
   "language": "python",
   "name": "python3"
  },
  "language_info": {
   "codemirror_mode": {
    "name": "ipython",
    "version": 3
   },
   "file_extension": ".py",
   "mimetype": "text/x-python",
   "name": "python",
   "nbconvert_exporter": "python",
   "pygments_lexer": "ipython3",
   "version": "3.8.10"
  },
  "orig_nbformat": 4
 },
 "nbformat": 4,
 "nbformat_minor": 2
}
