{
 "cells": [
  {
   "cell_type": "code",
   "execution_count": 1,
   "metadata": {},
   "outputs": [],
   "source": [
    "import matplotlib.pyplot as plt\n",
    "import pickle\n",
    "import numpy as np\n",
    "\n",
    "plt.rcParams[\"font.sans-serif\"] = [\"Times New Roman\"]\n",
    "plt.rcParams[\"axes.unicode_minus\"] = False\n",
    "\n",
    "FILES_PATH = \"output/\"\n",
    "\n",
    "wavenet_path = FILES_PATH + \"models/\"\n",
    "\n",
    "fonts = {\"size\": 15}"
   ]
  },
  {
   "cell_type": "code",
   "execution_count": null,
   "metadata": {},
   "outputs": [],
   "source": [
    "wavenet_list = list()\n",
    "wavenet_names = [\"wavenet-h.pkl\"]\n",
    "\n",
    "# 读取训练记录\n",
    "for history in wavenet_names:\n",
    "    with open(wavenet_path + history, \"rb\") as file:\n",
    "        wavenet_list.append(pickle.load(file))\n",
    "\n",
    "plt.figure(figsize=(20, 5), dpi=110)\n",
    "plt.subplots_adjust(hspace=0.4)\n",
    "\n",
    "\n",
    "for index, data in enumerate(wavenet_list):\n",
    "    epoch = len(data[\"loss\"])\n",
    "    x = range(1, epoch + 1)\n",
    "    plt.subplot(1, 3, index + 1)\n",
    "    \n",
    "    plt.title(\"DBGRU %d layers loss\" % ((index + 1) * 2), fontdict=fonts)\n",
    "    plt.xticks(size=fonts['size'])\n",
    "    plt.yticks(size=fonts['size'])\n",
    "    plt.xlabel(\"epoch\", fontdict=fonts)\n",
    "    plt.ylabel(\"loss\", fontdict=fonts)\n",
    "    \n",
    "    plt.plot(x, data[\"loss\"], \"--\")\n",
    "    plt.plot(x, data[\"val_loss\"])\n",
    "    \n",
    "    print(\"%.4f\" % np.min(data[\"val_loss\"]))\n",
    "    plt.legend([\"loss\", \"val_loss\"], prop=fonts)\n",
    "\n",
    "plt.show()\n"
   ]
  }
 ],
 "metadata": {
  "kernelspec": {
   "display_name": "venv",
   "language": "python",
   "name": "python3"
  },
  "language_info": {
   "codemirror_mode": {
    "name": "ipython",
    "version": 3
   },
   "file_extension": ".py",
   "mimetype": "text/x-python",
   "name": "python",
   "nbconvert_exporter": "python",
   "pygments_lexer": "ipython3",
   "version": "3.8.10"
  },
  "orig_nbformat": 4
 },
 "nbformat": 4,
 "nbformat_minor": 2
}
